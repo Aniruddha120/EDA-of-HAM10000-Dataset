{
 "cells": [
  {
   "cell_type": "markdown",
   "id": "84a2846a-b89f-4a9c-9263-4cdbe18d8fb5",
   "metadata": {},
   "source": [
    "# HAM10000 Skin decease Classification dataset EDA analysis"
   ]
  },
  {
   "cell_type": "code",
   "execution_count": 1,
   "id": "3ea9457c-7e6c-4da1-a7c6-e6c8d9932880",
   "metadata": {},
   "outputs": [],
   "source": [
    "#importing the libraries\n",
    "import os\n",
    "import pandas as pd\n",
    "import shutil"
   ]
  },
  {
   "cell_type": "code",
   "execution_count": 4,
   "id": "6550c39f-9691-43a7-9252-2363f9536f5e",
   "metadata": {},
   "outputs": [],
   "source": [
    "# getting the folders into variables\n",
    "data_dir = os.getcwd() + \"/all_images/\"\n",
    "des_dir = os.getcwd() + \"/destination_dir/\" "
   ]
  },
  {
   "cell_type": "code",
   "execution_count": 5,
   "id": "c27e0933-2dde-4427-bff9-41c7c2d1f0bd",
   "metadata": {},
   "outputs": [],
   "source": [
    "#reading the metadata file by using pandas\n",
    "skin_meta = pd.read_csv('HAM10000_metadata.csv')"
   ]
  },
  {
   "cell_type": "code",
   "execution_count": 6,
   "id": "c1bf2bf3-fe37-4eea-b970-c96e3f0eb093",
   "metadata": {},
   "outputs": [
    {
     "data": {
      "text/plain": [
       "nv       6705\n",
       "mel      1113\n",
       "bkl      1099\n",
       "bcc       514\n",
       "akiec     327\n",
       "vasc      142\n",
       "df        115\n",
       "Name: dx, dtype: int64"
      ]
     },
     "execution_count": 6,
     "metadata": {},
     "output_type": "execute_result"
    }
   ],
   "source": [
    "# the dx column holds the names of the deceases. So the total samples are being observed\n",
    "skin_meta['dx'].value_counts()"
   ]
  },
  {
   "cell_type": "code",
   "execution_count": 18,
   "id": "f0474843-8b7d-4b2e-9b8d-031111de7580",
   "metadata": {},
   "outputs": [
    {
     "data": {
      "text/plain": [
       "['bkl', 'nv', 'df', 'mel', 'vasc', 'bcc', 'akiec']"
      ]
     },
     "execution_count": 18,
     "metadata": {},
     "output_type": "execute_result"
    }
   ],
   "source": [
    "# the names of the deceases are being kept in a list\n",
    "label = skin_meta['dx'].unique().tolist() # .unique() only chooses the unique values, .tolist() converst the array into list\n",
    "label_images =[] #creating an empty list where the image id will be stored, for the distinguished decease\n",
    "label"
   ]
  },
  {
   "cell_type": "code",
   "execution_count": 25,
   "id": "322d90b3-2095-4ef7-a9dc-1875715e7287",
   "metadata": {},
   "outputs": [],
   "source": [
    "# Creating a nested loop.\n",
    "for i in label: \n",
    "    os.mkdir(des_dir + str(i) + \"/\") # for the i'th decease , an individual folder is being created\n",
    "    sample = skin_meta[skin_meta['dx'] == i]['image_id'] # the image id of the i'th decease is being stored in the sample list\n",
    "    label_images.extend(sample) \n",
    "    for id in label_images: # here the images are being copied into the folders using shutil library \n",
    "        shutil.copyfile((data_dir + \"/\"+ id +\".jpg\"), (des_dir + i + \"/\" + id + \".jpg\"))\n",
    "    label_images=[]"
   ]
  },
  {
   "cell_type": "markdown",
   "id": "911e319a-7869-40c0-a0f5-4d4150cc941c",
   "metadata": {},
   "source": [
    "### Here the dataset s big, that's why the folders are not uploaded"
   ]
  },
  {
   "cell_type": "code",
   "execution_count": null,
   "id": "59f551a8-cadf-4d16-892d-7e4a03f0a5c2",
   "metadata": {},
   "outputs": [],
   "source": []
  }
 ],
 "metadata": {
  "kernelspec": {
   "display_name": "Python 3 (ipykernel)",
   "language": "python",
   "name": "python3"
  },
  "language_info": {
   "codemirror_mode": {
    "name": "ipython",
    "version": 3
   },
   "file_extension": ".py",
   "mimetype": "text/x-python",
   "name": "python",
   "nbconvert_exporter": "python",
   "pygments_lexer": "ipython3",
   "version": "3.9.16"
  }
 },
 "nbformat": 4,
 "nbformat_minor": 5
}
